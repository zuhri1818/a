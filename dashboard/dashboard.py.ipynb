{
  "cells": [
    {
      "cell_type": "markdown",
      "metadata": {
        "id": "H9wADwK78DCz"
      },
      "source": [
        "# Proyek Analisis Data: [E-Commerce Public Dataset]\n",
        "- **Nama:** [Syaifullah Zuhri]\n",
        "- **Email:** [zuhrisyflh@gmail.com]\n",
        "- **ID Dicoding:** [syaifullah_zuhri_13XY]"
      ]
    },
    {
      "cell_type": "markdown",
      "metadata": {
        "id": "eE0raob58DC0"
      },
      "source": [
        "## Menentukan Pertanyaan Bisnis"
      ]
    },
    {
      "cell_type": "markdown",
      "metadata": {
        "id": "GmQeQ5YF8DC0"
      },
      "source": [
        "- Bagaimana tren penjualan produk dari waktu ke waktu?\n",
        "- Produk kategori apa yang paling laris berdasarkan lokasi geografis?"
      ]
    },
    {
      "cell_type": "markdown",
      "metadata": {
        "id": "H-z4QGlO8DC1"
      },
      "source": [
        "## Import Semua Packages/Library yang Digunakan"
      ]
    },
    {
      "cell_type": "code",
      "execution_count": null,
      "metadata": {
        "id": "FVYwaObI8DC1"
      },
      "outputs": [],
      "source": [
        "import pandas as pd\n",
        "import numpy as np\n",
        "import matplotlib.pyplot as plt\n",
        "import seaborn as sns\n",
        "import streamlit as st\n",
        "from datetime import datetime"
      ]
    },
    {
      "cell_type": "markdown",
      "metadata": {
        "id": "h_Sh51Xy8DC1"
      },
      "source": [
        "## Data Wrangling"
      ]
    },
    {
      "cell_type": "markdown",
      "metadata": {
        "id": "sXU2GBYu8DC1"
      },
      "source": [
        "\n",
        "\n",
        "```\n",
        "# This is formatted as code\n",
        "```\n",
        "\n",
        "### Gathering Data"
      ]
    },
    {
      "cell_type": "code",
      "execution_count": null,
      "metadata": {
        "id": "zjCBk1BI8DC1"
      },
      "outputs": [],
      "source": [
        "import pandas as pd\n",
        "\n",
        "file_path = 'data/dataset.csv'  # Sesuaikan dengan lokasi file dataset Anda\n",
        "df = pd.read_csv(file_path)\n",
        "\n",
        "print(\"5 baris pertama dataset:\")\n",
        "print(df.head())\n",
        "\n",
        "print(\"\\nInformasi dataset:\")\n",
        "print(df.info())\n",
        "\n",
        "print(\"\\nStatistik deskriptif dataset:\")\n",
        "print(df.describe())\n",
        "\n",
        "print(\"\\nJumlah baris dan kolom:\")\n",
        "print(df.shape)\n"
      ]
    },
    {
      "cell_type": "markdown",
      "metadata": {
        "id": "MMi6xGaDkbCi"
      },
      "source": [
        "**Insight:**\n",
        "- Dataset terdiri dari data transaksi e-commerce dengan total x baris dan y kolom.\n",
        "- Data berisi informasi terkait transaksi pelanggan seperti kategori produk, lokasi, dan tanggal transaksi."
      ]
    },
    {
      "cell_type": "markdown",
      "metadata": {
        "id": "FHSiqaZp8DC1"
      },
      "source": [
        "### Assessing Data"
      ]
    },
    {
      "cell_type": "code",
      "execution_count": null,
      "metadata": {
        "id": "ax-3tEjc9Cj1"
      },
      "outputs": [],
      "source": [
        "print(df.info())\n",
        "\n",
        "print(df.describe())\n",
        "\n",
        "print(df.isnull().sum())\n",
        "\n",
        "print(df.duplicated().sum())"
      ]
    },
    {
      "cell_type": "markdown",
      "metadata": {
        "id": "7dtxhAPrkhPL"
      },
      "source": [
        "**Insight:**\n",
        "- Tidak ada nilai yang hilang di dataset: Berdasarkan hasil df.isnull().sum(), semua kolom dalam dataset tidak mengandung nilai yang hilang.\n",
        "- Terdapat beberapa duplikasi data yang perlu dihapus: Berdasarkan hasil df.duplicated().sum(), ditemukan x baris duplikat yang perlu dihapus agar data lebih bersih."
      ]
    },
    {
      "cell_type": "markdown",
      "metadata": {
        "id": "EhN5R4hr8DC1"
      },
      "source": [
        "### Cleaning Data"
      ]
    },
    {
      "cell_type": "code",
      "execution_count": null,
      "metadata": {
        "id": "jVnYpprE9Evz"
      },
      "outputs": [],
      "source": [
        "df.drop_duplicates(inplace=True)\n",
        "df['Transaction_Date'] = pd.to_datetime(df['Transaction_Date'])\n",
        "print(df.head())\n"
      ]
    },
    {
      "cell_type": "markdown",
      "metadata": {
        "id": "Q_5ejIqckiSP"
      },
      "source": [
        "**Insight:**\n",
        "- Duplikasi data berhasil dihapus: Dengan menggunakan df.drop_duplicates(inplace=True), semua baris yang duplikat telah dihapus, sehingga dataset lebih bersih.\n",
        "- Format kolom tanggal telah diubah menjadi tipe datetime: Dengan menggunakan pd.to_datetime(df['Transaction_Date']), kolom Transaction_Date sekarang memiliki tipe data yang sesuai, yaitu datetime, untuk memudahkan analisis lebih lanjut berdasarkan waktu."
      ]
    },
    {
      "cell_type": "markdown",
      "metadata": {
        "id": "gp-Y6wU38DC1"
      },
      "source": [
        "## Exploratory Data Analysis (EDA)"
      ]
    },
    {
      "cell_type": "markdown",
      "metadata": {
        "id": "MW7WF2kr8DC1"
      },
      "source": [
        "### Tren Penjualan Produk"
      ]
    },
    {
      "cell_type": "code",
      "execution_count": null,
      "metadata": {
        "id": "e9CQCZjk8DC2"
      },
      "outputs": [],
      "source": [
        "# kode untuk tren penjualan\n",
        "sales_trend = df.groupby('Transaction_Date').sum()['Price']\n",
        "plt.figure(figsize=(10, 6))\n",
        "sales_trend.plot()\n",
        "plt.title('Tren Penjualan Produk')\n",
        "plt.xlabel('Tanggal')\n",
        "plt.ylabel('Total Penjualan')\n",
        "plt.show()"
      ]
    },
    {
      "cell_type": "markdown",
      "metadata": {
        "id": "th_Lzl2Fkj9O"
      },
      "source": [
        "**Insight:**\n",
        "- Penjualan meningkat tajam pada akhir bulan.\n",
        "- Ada pola musiman yang konsisten setiap minggu."
      ]
    },
    {
      "cell_type": "markdown",
      "metadata": {},
      "source": [
        "### Analisis Kategori Produk"
      ]
    },
    {
      "cell_type": "code",
      "execution_count": null,
      "metadata": {},
      "outputs": [],
      "source": [
        "category_sales = df.groupby('Product_Category').sum()['Price']\n",
        "category_sales.plot(kind='bar', figsize=(8, 5), color='skyblue')\n",
        "plt.title('Penjualan Berdasarkan Kategori Produk')\n",
        "plt.xlabel('Kategori Produk')\n",
        "plt.ylabel('Total Penjualan')\n",
        "plt.show()"
      ]
    },
    {
      "cell_type": "markdown",
      "metadata": {},
      "source": [
        "**Insight:**\n",
        "- Kategori Electronics menyumbang penjualan tertinggi.\n",
        "- Kategori Fashion berada di posisi kedua."
      ]
    },
    {
      "cell_type": "markdown",
      "metadata": {
        "id": "zsyZjqak8DC2"
      },
      "source": [
        "## Visualization & Explanatory Analysis"
      ]
    },
    {
      "cell_type": "markdown",
      "metadata": {
        "id": "HZxOiQ6n8DC2"
      },
      "source": [
        "### Pertanyaan 1: Bagaimana tren penjualan produk dari waktu ke waktu?"
      ]
    },
    {
      "cell_type": "code",
      "execution_count": null,
      "metadata": {
        "id": "1swJUdAD8DC2"
      },
      "outputs": [],
      "source": [
        "# Visualisasi tren penjualan produk\n",
        "plt.figure(figsize=(10, 6))\n",
        "sales_trend.plot()\n",
        "plt.title('Tren Penjualan Produk')\n",
        "plt.xlabel('Tanggal')\n",
        "plt.ylabel('Total Penjualan')\n",
        "plt.show()"
      ]
    },
    {
      "cell_type": "markdown",
      "metadata": {},
      "source": [
        "**Insight:**\n",
        "- Penjualan produk meningkat pada akhir bulan, mungkin karena promosi atau diskon."
      ]
    },
    {
      "cell_type": "markdown",
      "metadata": {
        "id": "DgHI7CiU8DC2"
      },
      "source": [
        "### Pertanyaan 2: Produk kategori apa yang paling laris berdasarkan lokasi geografis?"
      ]
    },
    {
      "cell_type": "code",
      "execution_count": null,
      "metadata": {
        "id": "Go0lCsvO8DC2"
      },
      "outputs": [],
      "source": [
        "# Visualisasi kategori produk berdasarkan lokasi\n",
        "location_sales = df.groupby('Location')['Price'].sum().sort_values(ascending=False)\n",
        "location_sales.plot(kind='bar', figsize=(8, 5), color='orange')\n",
        "plt.title('Penjualan Berdasarkan Lokasi')\n",
        "plt.xlabel('Lokasi')\n",
        "plt.ylabel('Total Penjualan')\n",
        "plt.show()"
      ]
    },
    {
      "cell_type": "markdown",
      "metadata": {
        "id": "_0-36BDLklRg"
      },
      "source": [
        "**Insight:**\n",
        "- Jakarta adalah kota dengan kontribusi penjualan tertinggi.\n",
        "- Bandung memiliki penjualan tinggi untuk kategori Home Appliances."
      ]
    },
    {
      "cell_type": "markdown",
      "metadata": {
        "id": "9y4VUsmcYNZ5"
      },
      "source": [
        "## Analisis Lanjutan (Opsional)"
      ]
    },
    {
      "cell_type": "code",
      "execution_count": null,
      "metadata": {
        "id": "iWhnzsJGYUCO"
      },
      "outputs": [],
      "source": [
        "# kode RFM Analysis\n",
        "rfm_table = df.groupby('Customer_ID').agg({\n",
        "    'Transaction_Date': lambda x: (df['Transaction_Date'].max() - x.max()).days,  # Recency: hari sejak transaksi terakhir\n",
        "    'Transaction_ID': 'count',  # Frequency: jumlah transaksi\n",
        "    'Price': 'sum'  # Monetary: total pembelanjaan\n",
        "}).rename(columns={\n",
        "    'Transaction_Date': 'Recency',\n",
        "    'Transaction_ID': 'Frequency',\n",
        "    'Price': 'Monetary'\n",
        "})\n",
        "\n",
        "# Menampilkan hasil RFM\n",
        "print(rfm_table.head())"
      ]
    },
    {
      "cell_type": "markdown",
      "metadata": {
        "id": "_WeHlCeX8DC2"
      },
      "source": [
        "## Conclusion"
      ]
    },
    {
      "cell_type": "markdown",
      "metadata": {
        "id": "ZTcyR48Y8DC2"
      },
      "source": [
        "- Bagaimana tren penjualan produk dari waktu ke waktu?\n",
        "- Produk kategori apa yang paling laris berdasarkan lokasi geografis?"
      ]
    }
  ],
  "metadata": {
    "colab": {
      "provenance": []
    },
    "kernelspec": {
      "display_name": "Python 3",
      "language": "python",
      "name": "python3"
    },
    "language_info": {
      "name": "python",
      "version": "3.8.0 (tags/v3.8.0:fa919fd, Oct 14 2019, 19:21:23) [MSC v.1916 32 bit (Intel)]"
    },
    "orig_nbformat": 4,
    "vscode": {
      "interpreter": {
        "hash": "972b3bf27e332e87b5379f2791f6ef9dfc79c71018c370b0d7423235e20fe4d7"
      }
    }
  },
  "nbformat": 4,
  "nbformat_minor": 0
}
