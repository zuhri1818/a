import pandas as pd
import matplotlib.pyplot as plt
import seaborn as sns

# Load the main_data.csv file
file_path = "submission/dashboard/main_data.csv"
main_data = pd.read_csv(file_path)

# Display the first few rows of the dataset
print("\nFirst 5 rows of the dataset:")
print(main_data.head())

# General overview of the dataset
print("\nDataset Information:")
print(main_data.info())

print("\nSummary Statistics:")
print(main_data.describe())

# 1. Analyze Order Status
order_status_counts = main_data['order_status'].value_counts()
plt.figure(figsize=(8, 5))
order_status_counts.plot(kind='bar', color='skyblue', edgecolor='black')
plt.title('Order Status Distribution', fontsize=14)
plt.xlabel('Order Status', fontsize=12)
plt.ylabel('Count', fontsize=12)
plt.xticks(rotation=45)
plt.tight_layout()
plt.show()

# 2. Analyze Review Scores
plt.figure(figsize=(8, 5))
sns.histplot(main_data['review_score'].dropna(), bins=5, kde=True, color='green')
plt.title('Review Score Distribution', fontsize=14)
plt.xlabel('Review Score', fontsize=12)
plt.ylabel('Frequency', fontsize=12)
plt.tight_layout()
plt.show()

# 3. Analyze Total Sales by Category
sales_by_category = main_data.groupby('product_category')['price'].sum().sort_values(ascending=False)
plt.figure(figsize=(10, 6))
sales_by_category.plot(kind='bar', color='orange', edgecolor='black')
plt.title('Total Sales by Product Category', fontsize=14)
plt.xlabel('Product Category', fontsize=12)
plt.ylabel('Total Sales', fontsize=12)
plt.xticks(rotation=45)
plt.tight_layout()
plt.show()

# 4. Analyze Customer Locations
customer_location_counts = main_data['customer_location'].value_counts()
plt.figure(figsize=(8, 5))
customer_location_counts.plot(kind='bar', color='purple', edgecolor='black')
plt.title('Customer Locations', fontsize=14)
plt.xlabel('Location', fontsize=12)
plt.ylabel('Count', fontsize=12)
plt.xticks(rotation=45)
plt.tight_layout()
plt.show()

processed_file_path = "submission/dashboard/processed_data.csv"
processed_data = main_data[['order_id', 'customer_id', 'order_status', 'review_score', 'price', 'product_category']]
processed_data.to_csv(processed_file_path, index=False)
print(f"Processed data saved to: {processed_file_path}")
